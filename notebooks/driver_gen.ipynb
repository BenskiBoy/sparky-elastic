{
 "cells": [
  {
   "cell_type": "code",
   "execution_count": 38,
   "id": "9e666656",
   "metadata": {},
   "outputs": [],
   "source": [
    "import pyspark\n",
    "from delta import *\n",
    "\n",
    "builder = pyspark.sql.SparkSession.builder.appName(\"LocalDelta\") \\\n",
    "    .master(\"local\") \\\n",
    "    .config(\"spark.jars.packages\", \"io.delta:delta-core_2.12:2.4.0\") \\\n",
    "    .config(\"spark.sql.extensions\", \"io.delta.sql.DeltaSparkSessionExtension\") \\\n",
    "    .config(\"spark.sql.extensions\", \"org.elasticsearch:elasticsearch-spark-30_2.12:8.15.1\") \\\n",
    "    .config(\"spark.sql.catalog.spark_catalog\", \"org.apache.spark.sql.delta.catalog.DeltaCatalog\")\n",
    "\n",
    "spark = configure_spark_with_delta_pip(builder).getOrCreate()"
   ]
  },
  {
   "cell_type": "code",
   "execution_count": 39,
   "id": "5e6b2129",
   "metadata": {},
   "outputs": [],
   "source": [
    "DRIVER_TABLE_PATH = \"local_lake/silver/driver_table\"\n",
    "ORG_TABLE_PATH = \"local_lake/bronze/organisation/\"\n",
    "ADDR_TABLE_PATH = \"local_lake/bronze/address/\"\n",
    "ORG_ADDR_TABLE_PATH = \"local_lake/bronze/org_addr/\"\n",
    "\n",
    "def org_write(batch_df, batch_id):\n",
    "\n",
    "    batch_df.select('org_id').distinct().write \\\n",
    "        .format(\"delta\") \\\n",
    "        .mode(\"append\") \\\n",
    "        .save(DRIVER_TABLE_PATH)\n",
    "\n",
    "def addr_write(batch_df, batch_id):\n",
    "\n",
    "    batch_df.join(spark.read.format('delta').load(ORG_ADDR_TABLE_PATH), \"addr_id\").select(\"org_id\").distinct().write \\\n",
    "        .format(\"delta\") \\\n",
    "        .mode(\"append\") \\\n",
    "        .save(DRIVER_TABLE_PATH)\n",
    "\n",
    "def org_addr_write(batch_df, batch_id):\n",
    "    batch_df.select('org_id').distinct().write \\\n",
    "        .format(\"delta\") \\\n",
    "        .mode(\"append\") \\\n",
    "        .save(DRIVER_TABLE_PATH)\n"
   ]
  },
  {
   "cell_type": "code",
   "execution_count": 40,
   "id": "98e64a81",
   "metadata": {},
   "outputs": [],
   "source": [
    "org_df = spark.readStream \\\n",
    "    .format(\"delta\") \\\n",
    "    .load(ORG_TABLE_PATH)\n",
    "\n",
    "addr_df = spark.readStream \\\n",
    "    .format(\"delta\") \\\n",
    "    .load(ADDR_TABLE_PATH)\n",
    "\n",
    "org_addr_df = spark.readStream \\\n",
    "    .format(\"delta\") \\\n",
    "    .load(ORG_ADDR_TABLE_PATH)"
   ]
  },
  {
   "cell_type": "code",
   "execution_count": 41,
   "id": "a35530d9",
   "metadata": {},
   "outputs": [],
   "source": [
    "\n",
    "org_query = org_df.writeStream \\\n",
    "    .foreachBatch(org_write) \\\n",
    "    .option(\"checkpointLocation\", f\"{DRIVER_TABLE_PATH}_org_checkpoint\") \\\n",
    "    .trigger(once=True) \\\n",
    "    .start() \\\n",
    "    .awaitTermination()\n",
    "\n",
    "adddr_query = addr_df.writeStream \\\n",
    "    .foreachBatch(addr_write) \\\n",
    "    .option(\"checkpointLocation\", f\"{DRIVER_TABLE_PATH}_addr_checkpoint\") \\\n",
    "    .trigger(once=True) \\\n",
    "    .start() \\\n",
    "    .awaitTermination()\n",
    "\n",
    "org_addr_query = org_addr_df.writeStream \\\n",
    "    .foreachBatch(org_addr_write) \\\n",
    "    .option(\"checkpointLocation\", f\"{DRIVER_TABLE_PATH}_org_addr_checkpoint\") \\\n",
    "    .trigger(once=True) \\\n",
    "    .start() \\\n",
    "    .awaitTermination()"
   ]
  },
  {
   "cell_type": "code",
   "execution_count": 93,
   "id": "996c1eca",
   "metadata": {},
   "outputs": [
    {
     "name": "stdout",
     "output_type": "stream",
     "text": [
      "+------+\n",
      "|org_id|\n",
      "+------+\n",
      "|    16|\n",
      "|    13|\n",
      "|     5|\n",
      "|     2|\n",
      "|     9|\n",
      "|    14|\n",
      "|    15|\n",
      "|    14|\n",
      "|    12|\n",
      "|     8|\n",
      "|     3|\n",
      "|     9|\n",
      "|     4|\n",
      "|     4|\n",
      "|     7|\n",
      "|     6|\n",
      "|     2|\n",
      "|    11|\n",
      "|    15|\n",
      "|    12|\n",
      "+------+\n",
      "only showing top 20 rows\n",
      "\n"
     ]
    }
   ],
   "source": [
    "df = spark.read.format(\"delta\").load(DRIVER_TABLE_PATH)\n",
    "df.show()"
   ]
  },
  {
   "cell_type": "code",
   "execution_count": null,
   "id": "d799b17b",
   "metadata": {},
   "outputs": [],
   "source": []
  }
 ],
 "metadata": {
  "kernelspec": {
   "display_name": "Python 3 (ipykernel)",
   "language": "python",
   "name": "python3"
  },
  "language_info": {
   "codemirror_mode": {
    "name": "ipython",
    "version": 3
   },
   "file_extension": ".py",
   "mimetype": "text/x-python",
   "name": "python",
   "nbconvert_exporter": "python",
   "pygments_lexer": "ipython3",
   "version": "3.11.5"
  }
 },
 "nbformat": 4,
 "nbformat_minor": 5
}
