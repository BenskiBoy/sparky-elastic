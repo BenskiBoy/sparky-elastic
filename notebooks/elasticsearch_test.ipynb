{
 "cells": [
  {
   "cell_type": "code",
   "execution_count": 1,
   "id": "4c8c789f-50bb-44f7-a8c5-ea58f10a5691",
   "metadata": {},
   "outputs": [
    {
     "name": "stdout",
     "output_type": "stream",
     "text": [
      "Collecting elasticsearch\n",
      "  Obtaining dependency information for elasticsearch from https://files.pythonhosted.org/packages/ab/dc/87c47f9c42f8188d24f6c589ed0e8168a0fef7091e5ccffdbc950be7ab66/elasticsearch-8.15.0-py3-none-any.whl.metadata\n",
      "  Using cached elasticsearch-8.15.0-py3-none-any.whl.metadata (8.7 kB)\n",
      "Collecting elastic-transport<9,>=8.13 (from elasticsearch)\n",
      "  Obtaining dependency information for elastic-transport<9,>=8.13 from https://files.pythonhosted.org/packages/1d/4a/df755b094170351b8199074fe8d0dfe6d639ab78a2e8893b556620ae982a/elastic_transport-8.15.0-py3-none-any.whl.metadata\n",
      "  Using cached elastic_transport-8.15.0-py3-none-any.whl.metadata (3.6 kB)\n",
      "Requirement already satisfied: urllib3<3,>=1.26.2 in /opt/conda/lib/python3.11/site-packages (from elastic-transport<9,>=8.13->elasticsearch) (2.0.4)\n",
      "Requirement already satisfied: certifi in /opt/conda/lib/python3.11/site-packages (from elastic-transport<9,>=8.13->elasticsearch) (2023.7.22)\n",
      "Using cached elasticsearch-8.15.0-py3-none-any.whl (523 kB)\n",
      "Using cached elastic_transport-8.15.0-py3-none-any.whl (64 kB)\n",
      "Installing collected packages: elastic-transport, elasticsearch\n",
      "Successfully installed elastic-transport-8.15.0 elasticsearch-8.15.0\n",
      "Note: you may need to restart the kernel to use updated packages.\n"
     ]
    }
   ],
   "source": [
    "%pip install elasticsearch"
   ]
  },
  {
   "cell_type": "code",
   "execution_count": 2,
   "id": "958839cb-672e-404f-9eca-3d9322982083",
   "metadata": {
    "editable": true,
    "slideshow": {
     "slide_type": ""
    },
    "tags": []
   },
   "outputs": [
    {
     "name": "stdout",
     "output_type": "stream",
     "text": [
      "{'errors': False, 'took': 0, 'ingest_took': 0, 'items': [{'index': {'_index': 'test', '_id': '9780441017225', '_version': 3, 'result': 'updated', '_shards': {'total': 2, 'successful': 1, 'failed': 0}, '_seq_no': 16, '_primary_term': 13, 'status': 200}}, {'index': {'_index': 'test', '_id': '9780451524935', '_version': 3, 'result': 'updated', '_shards': {'total': 2, 'successful': 1, 'failed': 0}, '_seq_no': 17, '_primary_term': 13, 'status': 200}}, {'index': {'_index': 'test', '_id': '9781451673319', '_version': 3, 'result': 'updated', '_shards': {'total': 2, 'successful': 1, 'failed': 0}, '_seq_no': 18, '_primary_term': 13, 'status': 200}}, {'index': {'_index': 'test', '_id': '9780060850524', '_version': 3, 'result': 'updated', '_shards': {'total': 2, 'successful': 1, 'failed': 0}, '_seq_no': 19, '_primary_term': 13, 'status': 200}}, {'index': {'_index': 'test', '_id': '9780385490818', '_version': 3, 'result': 'updated', '_shards': {'total': 2, 'successful': 1, 'failed': 0}, '_seq_no': 20, '_primary_term': 13, 'status': 200}}]}\n",
      "{'took': 8, 'timed_out': False, '_shards': {'total': 1, 'successful': 1, 'skipped': 0, 'failed': 0}, 'hits': {'total': {'value': 0, 'relation': 'eq'}, 'max_score': None, 'hits': []}}\n"
     ]
    }
   ],
   "source": [
    "from elasticsearch import Elasticsearch\n",
    "\n",
    "client = Elasticsearch(\n",
    "    \"http://elasticsearch:9200\",\n",
    ")\n",
    "\n",
    "documents = [\n",
    "    {\"index\": {\"_index\": \"test\", \"_id\": \"9780441017225\"}},\n",
    "    {\n",
    "        \"name\": \"Revelation Space\",\n",
    "        \"author\": \"Alastair Reynolds\",\n",
    "        \"release_date\": \"2000-03-15\",\n",
    "        \"page_count\": 585,\n",
    "        \"_extract_binary_content\": True,\n",
    "        \"_reduce_whitespace\": True,\n",
    "        \"_run_ml_inference\": True,\n",
    "    },\n",
    "    {\"index\": {\"_index\": \"test\", \"_id\": \"9780451524935\"}},\n",
    "    {\n",
    "        \"name\": \"1984\",\n",
    "        \"author\": \"George Orwell\",\n",
    "        \"release_date\": \"1985-06-01\",\n",
    "        \"page_count\": 328,\n",
    "        \"_extract_binary_content\": True,\n",
    "        \"_reduce_whitespace\": True,\n",
    "        \"_run_ml_inference\": True,\n",
    "    },\n",
    "    {\"index\": {\"_index\": \"test\", \"_id\": \"9781451673319\"}},\n",
    "    {\n",
    "        \"name\": \"Fahrenheit 451\",\n",
    "        \"author\": \"Ray Bradbury\",\n",
    "        \"release_date\": \"1953-10-15\",\n",
    "        \"page_count\": 227,\n",
    "        \"_extract_binary_content\": True,\n",
    "        \"_reduce_whitespace\": True,\n",
    "        \"_run_ml_inference\": True,\n",
    "    },\n",
    "    {\"index\": {\"_index\": \"test\", \"_id\": \"9780060850524\"}},\n",
    "    {\n",
    "        \"name\": \"Brave New World\",\n",
    "        \"author\": \"Aldous Huxley\",\n",
    "        \"release_date\": \"1932-06-01\",\n",
    "        \"page_count\": 268,\n",
    "        \"_extract_binary_content\": True,\n",
    "        \"_reduce_whitespace\": True,\n",
    "        \"_run_ml_inference\": True,\n",
    "    },\n",
    "    {\"index\": {\"_index\": \"test\", \"_id\": \"9780385490818\"}},\n",
    "    {\n",
    "        \"name\": \"The Handmaid's Tale\",\n",
    "        \"author\": \"Margaret Atwood\",\n",
    "        \"release_date\": \"1985-06-01\",\n",
    "        \"page_count\": 311,\n",
    "        \"_extract_binary_content\": True,\n",
    "        \"_reduce_whitespace\": True,\n",
    "        \"_run_ml_inference\": True,\n",
    "    },\n",
    "]\n",
    "\n",
    "print(client.bulk(operations=documents, pipeline=\"ent-search-generic-ingestion\"))\n",
    "\n",
    "print(client.search(index=\"test\", q=\"snow\"))\n"
   ]
  },
  {
   "cell_type": "code",
   "execution_count": 2,
   "id": "4570eac4-2aeb-4d33-9075-a27025553f22",
   "metadata": {},
   "outputs": [],
   "source": [
    "import pyspark\n",
    "from delta import *\n",
    "\n",
    "builder = pyspark.sql.SparkSession.builder.appName(\"LocalDelta\") \\\n",
    "    .master(\"local\") \\\n",
    "    .config(\"spark.jars.packages\", \"io.delta:delta-core_2.12:2.4.0\") \\\n",
    "    .config(\"spark.sql.extensions\", \"io.delta.sql.DeltaSparkSessionExtension\") \\\n",
    "    .config(\"spark.sql.extensions\", \"org.elasticsearch:elasticsearch-spark-30_2.12:8.15.1\") \\\n",
    "    .config(\"spark.sql.catalog.spark_catalog\", \"org.apache.spark.sql.delta.catalog.DeltaCatalog\")\n",
    "\n",
    "spark = configure_spark_with_delta_pip(builder).getOrCreate()"
   ]
  },
  {
   "cell_type": "code",
   "execution_count": 8,
   "id": "2df5b126-4b72-431c-894a-18a66cf866b0",
   "metadata": {},
   "outputs": [],
   "source": [
    "from pyspark.sql.types import StructType,StructField, StringType, IntegerType\n",
    "data2 = [(\"James\",\"\",\"Smith\",\"36636\",\"M\",3000),\n",
    "    (\"Michael\",\"Rose\",\"\",\"40288\",\"M\",4000),\n",
    "    (\"Robert\",\"\",\"Williams\",\"42114\",\"M\",4000),\n",
    "    (\"Maria\",\"Anne\",\"Jones\",\"39192\",\"F\",4000),\n",
    "    (\"Jen\",\"Mary\",\"Brown\",\"1234\",\"F\",-1)\n",
    "  ]\n",
    "\n",
    "schema = StructType([ \\\n",
    "    StructField(\"firstname\",StringType(),True), \\\n",
    "    StructField(\"middlename\",StringType(),True), \\\n",
    "    StructField(\"lastname\",StringType(),True), \\\n",
    "    StructField(\"id\", StringType(), True), \\\n",
    "    StructField(\"gender\", StringType(), True), \\\n",
    "    StructField(\"salary\", IntegerType(), True) \\\n",
    "  ])\n",
    " \n",
    "df = spark.createDataFrame(data=data2,schema=schema)\n",
    "df.write.format(\"delta\").option(\"mergeSchema\", \"true\").mode(\"overwrite\").save(\"local_lake/scratch/users\")"
   ]
  },
  {
   "cell_type": "code",
   "execution_count": 9,
   "id": "0f452575-b96b-41a3-b561-ce86f827bf3e",
   "metadata": {},
   "outputs": [],
   "source": [
    "# Reading delta table\n",
    "df = spark.read.format(\"delta\").load(\"local_lake/scratch/users\")"
   ]
  },
  {
   "cell_type": "code",
   "execution_count": 5,
   "id": "aa494b37-d2b4-4432-a7c9-0d1f74a6ee5f",
   "metadata": {},
   "outputs": [
    {
     "name": "stdout",
     "output_type": "stream",
     "text": [
      "+---------+----------+--------+-----+------+------+\n",
      "|firstname|middlename|lastname|   id|gender|salary|\n",
      "+---------+----------+--------+-----+------+------+\n",
      "|    James|          |   Smith|36636|     M|  3000|\n",
      "|  Michael|      Rose|        |40288|     M|  4000|\n",
      "|   Robert|          |Williams|42114|     M|  4000|\n",
      "|    Maria|      Anne|   Jones|39192|     F|  4000|\n",
      "|      Jen|      Mary|   Brown| 1234|     F|    -1|\n",
      "+---------+----------+--------+-----+------+------+\n",
      "\n"
     ]
    }
   ],
   "source": [
    "df.show()"
   ]
  },
  {
   "cell_type": "code",
   "execution_count": 7,
   "id": "64cce500-53e9-4a9c-81a7-5b697190e2e4",
   "metadata": {},
   "outputs": [],
   "source": [
    "df.write.format(\"org.elasticsearch.spark.sql\")\\\n",
    "    .option(\"es.nodes\", \"http://elasticsearch:9200\")\\\n",
    "    .option(\"es.nodes.discovery\", \"false\")\\\n",
    "    .option(\"es.nodes.wan.only\", \"true\")\\\n",
    "    .option(\"es.index.auto.create\", \"true\")\\\n",
    "    .option(\"es.mapping.id\", \"id\")\\\n",
    "    .option(\"es.mapping.exclude\", \"id\")\\\n",
    "    .mode(\"append\") \\\n",
    "    .save(\"test\")"
   ]
  },
  {
   "cell_type": "code",
   "execution_count": null,
   "id": "a8580fff-f83f-44b3-a85e-d4d4caedf238",
   "metadata": {},
   "outputs": [],
   "source": []
  }
 ],
 "metadata": {
  "kernelspec": {
   "display_name": "Python 3 (ipykernel)",
   "language": "python",
   "name": "python3"
  },
  "language_info": {
   "codemirror_mode": {
    "name": "ipython",
    "version": 3
   },
   "file_extension": ".py",
   "mimetype": "text/x-python",
   "name": "python",
   "nbconvert_exporter": "python",
   "pygments_lexer": "ipython3",
   "version": "3.11.5"
  }
 },
 "nbformat": 4,
 "nbformat_minor": 5
}
