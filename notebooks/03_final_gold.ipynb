{
 "cells": [
  {
   "cell_type": "code",
   "execution_count": 44,
   "metadata": {},
   "outputs": [],
   "source": [
    "import pyspark\n",
    "from delta import *\n",
    "from delta.tables import DeltaTable\n",
    "\n",
    "builder = pyspark.sql.SparkSession.builder.appName(\"LocalDelta\") \\\n",
    "    .master(\"local\") \\\n",
    "    .config(\"spark.jars.packages\", \"io.delta:delta-core_2.12:2.4.0\") \\\n",
    "    .config(\"spark.sql.extensions\", \"io.delta.sql.DeltaSparkSessionExtension\") \\\n",
    "    .config(\"spark.sql.extensions\", \"org.elasticsearch:elasticsearch-spark-30_2.12:8.15.1\") \\\n",
    "    .config(\"spark.sql.catalog.spark_catalog\", \"org.apache.spark.sql.delta.catalog.DeltaCatalog\")\n",
    "\n",
    "spark = configure_spark_with_delta_pip(builder).getOrCreate()"
   ]
  },
  {
   "cell_type": "code",
   "execution_count": 45,
   "metadata": {},
   "outputs": [],
   "source": [
    "spark.read.format('delta').load(\"local_lake/bronze/address\").createOrReplaceTempView(\"addr\")\n",
    "spark.read.format('delta').load(\"local_lake/bronze/organisation\").createOrReplaceTempView(\"org\")\n",
    "spark.read.format('delta').load(\"local_lake/bronze/org_addr\").createOrReplaceTempView(\"org_addr\")\n"
   ]
  },
  {
   "cell_type": "code",
   "execution_count": 43,
   "metadata": {},
   "outputs": [],
   "source": [
    "DRIVER_TABLE_PATH = \"local_lake/silver/driver_table\"\n",
    "GOLD_TABLE_PATH = \"local_lake/gold/final_table\"\n",
    "\n",
    "def gold_write(batch_df, batch_id):\n",
    "    batch_df.createOrReplaceTempView(\"keys\")\n",
    "\n",
    "    # gold_df = batch_df.sparkSession.sql('select org_id from keys')\n",
    "    gold_df = batch_df.sparkSession.sql(\"\"\"\n",
    "        SELECT\n",
    "            org.org_id as org_id,\n",
    "            org.email as org_email,\n",
    "            addr.city as city\n",
    "        FROM org\n",
    "        JOIN org_addr ON org.org_id = org_addr.org_id\n",
    "        JOIN addr ON org_addr.addr_id = addr.addr_id\n",
    "        where org.org_id in (select org_id from keys)\n",
    "    \"\"\")\n",
    "\n",
    "    if not DeltaTable.isDeltaTable(spark, GOLD_TABLE_PATH):\n",
    "        gold_df.write.format(\"delta\").mode(\"overwrite\").save(GOLD_TABLE_PATH)\n",
    "    else:\n",
    "\n",
    "        delta_table = DeltaTable.forPath(spark, GOLD_TABLE_PATH)\n",
    "\n",
    "        delta_table.alias(\"existing\") \\\n",
    "        .merge(\n",
    "            gold_df.alias(\"updates\"),\n",
    "            \"existing.org_id = updates.org_id\"  \n",
    "        ) \\\n",
    "        .whenMatchedUpdateAll().whenNotMatchedInsertAll().execute()"
   ]
  },
  {
   "cell_type": "code",
   "execution_count": 42,
   "metadata": {},
   "outputs": [],
   "source": [
    "org_ids = spark.readStream \\\n",
    "    .format(\"delta\") \\\n",
    "    .load(DRIVER_TABLE_PATH)\n",
    "\n",
    "\n",
    "(org_ids.writeStream\n",
    "    .foreachBatch(gold_write)\n",
    "    .option(\"checkpointLocation\", f\"{GOLD_TABLE_PATH}_checkpoint\")\n",
    "    .trigger(once=True)\n",
    "    .start()\n",
    "    .awaitTermination()\n",
    ")"
   ]
  },
  {
   "cell_type": "code",
   "execution_count": 46,
   "metadata": {},
   "outputs": [
    {
     "name": "stdout",
     "output_type": "stream",
     "text": [
      "+------+--------------------+-----------------+\n",
      "|org_id|           org_email|             city|\n",
      "+------+--------------------+-----------------+\n",
      "|    29|  tlucas@example.com|      Timothytown|\n",
      "|    26|michaelroberts@ex...|        East Todd|\n",
      "|    19|harriskelly@examp...|        Shahmouth|\n",
      "|    22| jason33@example.org| East Reginahaven|\n",
      "|    32|amandarose@exampl...|      New Bethany|\n",
      "|    31|  jadams@example.net|      South Susan|\n",
      "|    25|nicolethomas@exam...|      Kramermouth|\n",
      "|    27|alexandersoto@exa...|         Leehaven|\n",
      "|    17|jennifermullins@e...|        Port Lori|\n",
      "|    28|amanda04@example.net|       Josephberg|\n",
      "|    18|griffinmichelle@e...|Lake Elizabethton|\n",
      "|    21|ebartlett@example...| West Veronicaton|\n",
      "|    30|timothy97@example...|         Popetown|\n",
      "|    23|clarkhector@examp...|      Lake Monica|\n",
      "|    20|spencerkevin@exam...|     Jacksonmouth|\n",
      "|    24|  ryan28@example.com|     West Whitney|\n",
      "|    10|dustinclark@examp...| Port Danielville|\n",
      "|    11|karencastillo@exa...|       Shawnmouth|\n",
      "|    12|dodsondeborah@exa...|          Annside|\n",
      "|    13|smallevelyn@examp...|     Valenciatown|\n",
      "+------+--------------------+-----------------+\n",
      "only showing top 20 rows\n",
      "\n"
     ]
    }
   ],
   "source": [
    "spark.read.format('delta').load(GOLD_TABLE_PATH).show()"
   ]
  },
  {
   "cell_type": "code",
   "execution_count": null,
   "metadata": {},
   "outputs": [],
   "source": []
  },
  {
   "cell_type": "code",
   "execution_count": null,
   "metadata": {},
   "outputs": [],
   "source": []
  }
 ],
 "metadata": {
  "kernelspec": {
   "display_name": "Python 3 (ipykernel)",
   "language": "python",
   "name": "python3"
  },
  "language_info": {
   "codemirror_mode": {
    "name": "ipython",
    "version": 3
   },
   "file_extension": ".py",
   "mimetype": "text/x-python",
   "name": "python",
   "nbconvert_exporter": "python",
   "pygments_lexer": "ipython3",
   "version": "3.11.5"
  }
 },
 "nbformat": 4,
 "nbformat_minor": 2
}
