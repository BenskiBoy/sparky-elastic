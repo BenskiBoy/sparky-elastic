{
 "cells": [
  {
   "cell_type": "code",
   "execution_count": 10,
   "id": "37d6cde0-3189-44eb-9386-2ae6074ee9e0",
   "metadata": {},
   "outputs": [],
   "source": [
    "import pyspark\n",
    "from delta import *\n",
    "\n",
    "builder = pyspark.sql.SparkSession.builder.appName(\"LocalDelta\") \\\n",
    "    .master(\"local\") \\\n",
    "    .config(\"spark.jars.packages\", \"io.delta:delta-core_2.12:2.4.0\") \\\n",
    "    .config(\"spark.sql.extensions\", \"io.delta.sql.DeltaSparkSessionExtension\") \\\n",
    "    .config(\"spark.sql.extensions\", \"org.elasticsearch:elasticsearch-spark-30_2.12:8.15.1\") \\\n",
    "    .config(\"spark.sql.catalog.spark_catalog\", \"org.apache.spark.sql.delta.catalog.DeltaCatalog\")\n",
    "\n",
    "spark = configure_spark_with_delta_pip(builder).getOrCreate()"
   ]
  },
  {
   "cell_type": "code",
   "execution_count": 33,
   "id": "76ca3d2e-3464-469d-97c5-3e79c3db0a4d",
   "metadata": {},
   "outputs": [],
   "source": [
    "def read_stream(path: str):\n",
    "    schema = spark.read.format(\"json\").load(path).schema\n",
    "    return spark.readStream.format(\"json\").schema(schema).load(path)\n",
    "\n",
    "def write_stream(df, path: str, checkpoint_path: str):\n",
    "    return (df.writeStream \n",
    "    .format(\"delta\") \n",
    "    .outputMode(\"append\") \n",
    "    .option(\"path\", path) \n",
    "    .option(\"checkpointLocation\", checkpoint_path) \n",
    "    .trigger(once=True) \n",
    "    .start()\n",
    "    )"
   ]
  },
  {
   "cell_type": "code",
   "execution_count": 34,
   "id": "ff9eddbc-ac02-451c-9948-0279b0fad030",
   "metadata": {},
   "outputs": [
    {
     "name": "stdout",
     "output_type": "stream",
     "text": [
      "address\n",
      "org_addr\n",
      "organisation\n"
     ]
    }
   ],
   "source": [
    "tbls = [\n",
    "    'address',\n",
    "    'org_addr',\n",
    "    'organisation'\n",
    "]\n",
    "\n",
    "for tbl in tbls:\n",
    "    print(tbl)\n",
    "    df = read_stream(f'southwind/extact_json/{tbl}/')\n",
    "    query = write_stream(df, f'local_lake/bronze/{tbl}/', f'local_lake/bronze/{tbl}_checkpoint/').awaitTermination()\n"
   ]
  },
  {
   "cell_type": "markdown",
   "id": "4abd6441",
   "metadata": {},
   "source": []
  },
  {
   "cell_type": "code",
   "execution_count": 116,
   "id": "8ea38f68",
   "metadata": {},
   "outputs": [
    {
     "name": "stdout",
     "output_type": "stream",
     "text": [
      "+-------+------------+-----------+-----------------+--------------------+-----------+------------+-------+\n",
      "|addr_id|change_token|change_type|             city|             country|hire_status|       state|zipcode|\n",
      "+-------+------------+-----------+-----------------+--------------------+-----------+------------+-------+\n",
      "|     33|           9|          I|    Lake Veronica|South Georgia and...|       true|    Oklahoma|  28881|\n",
      "|     46|          12|          I|          Annside|Svalbard & Jan Ma...|       true|Pennsylvania|  47032|\n",
      "|      9|           2|          I|         Adamland|Palestinian Terri...|       true|    Nebraska|  77455|\n",
      "|     38|          10|          I| Port Danielville|             Denmark|       true|    Maryland|  22702|\n",
      "|     12|           3|          I|Lake Jenniferbury|             Liberia|       true|      Oregon|  67883|\n",
      "|     43|          11|          I|       Shawnmouth|         Isle of Man|       true|    New York|  06474|\n",
      "|     56|          15|          I|     Lake Brandon|        Saudi Arabia|       true|       Maine|  95257|\n",
      "|     55|          14|          I|    Port Danielle|                Guam|       true| Connecticut|  25862|\n",
      "|      4|           1|          I|  Lake Susanburgh|              Tuvalu|       true|    Arkansas|  23636|\n",
      "|     16|           4|          I|        Janetside|              Kuwait|       true|Pennsylvania|  32999|\n",
      "|     29|           8|          I|     East Jeffery|              Angola|       true|   Minnesota|  88373|\n",
      "|     50|          13|          I|     Valenciatown|             Hungary|       true|      Alaska|  36012|\n",
      "|     22|           6|          I|    Port Patricia|               Nauru|       true|     Vermont|  25119|\n",
      "|     17|           5|          I|        Josehaven|             Eritrea|       true|     Wyoming|  36792|\n",
      "|     24|           7|          I|        Lake Noah|               Benin|       true|    Maryland|  24755|\n",
      "+-------+------------+-----------+-----------------+--------------------+-----------+------------+-------+\n",
      "\n"
     ]
    }
   ],
   "source": [
    "spark.read.format(\"delta\").load(\"local_lake/bronze/address/\").show()"
   ]
  },
  {
   "cell_type": "code",
   "execution_count": null,
   "id": "0c5e3641",
   "metadata": {},
   "outputs": [],
   "source": []
  }
 ],
 "metadata": {
  "kernelspec": {
   "display_name": "Python 3 (ipykernel)",
   "language": "python",
   "name": "python3"
  },
  "language_info": {
   "codemirror_mode": {
    "name": "ipython",
    "version": 3
   },
   "file_extension": ".py",
   "mimetype": "text/x-python",
   "name": "python",
   "nbconvert_exporter": "python",
   "pygments_lexer": "ipython3",
   "version": "3.11.5"
  }
 },
 "nbformat": 4,
 "nbformat_minor": 5
}
